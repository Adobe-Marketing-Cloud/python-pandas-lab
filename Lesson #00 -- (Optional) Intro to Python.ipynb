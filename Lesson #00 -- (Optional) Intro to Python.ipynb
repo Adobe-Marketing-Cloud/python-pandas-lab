{
 "metadata": {
  "name": "",
  "signature": "sha256:4cc0b6cba110815216b4c4a6449a43b4a3ab3dad9dc188f480c82696b50a84d6"
 },
 "nbformat": 3,
 "nbformat_minor": 0,
 "worksheets": [
  {
   "cells": [
    {
     "cell_type": "markdown",
     "metadata": {},
     "source": [
      "If you need details about Python Syntax here are couple sites that are helpful. \n",
      "* (Python Tutorial)[http://www.afterhoursprogramming.com/tutorial/Python/Introduction/]\n",
      "* (Python Beginners Guider) [https://wiki.python.org/moin/BeginnersGuide]\n",
      "* (Google)[https://www.google.com/] -- If you have questions Google probably knows\n",
      "\n",
      "I have given a brief overview down below as well. "
     ]
    },
    {
     "cell_type": "markdown",
     "metadata": {},
     "source": [
      "Simple Math"
     ]
    },
    {
     "cell_type": "code",
     "collapsed": false,
     "input": [
      "1+1"
     ],
     "language": "python",
     "metadata": {},
     "outputs": [
      {
       "metadata": {},
       "output_type": "pyout",
       "prompt_number": 1,
       "text": [
        "2"
       ]
      }
     ],
     "prompt_number": 1
    },
    {
     "cell_type": "markdown",
     "metadata": {},
     "source": [
      "Assign a variable"
     ]
    },
    {
     "cell_type": "code",
     "collapsed": false,
     "input": [
      "a=1+1"
     ],
     "language": "python",
     "metadata": {},
     "outputs": [],
     "prompt_number": 2
    },
    {
     "cell_type": "markdown",
     "metadata": {},
     "source": [
      "See the value of a variable"
     ]
    },
    {
     "cell_type": "code",
     "collapsed": false,
     "input": [
      "a"
     ],
     "language": "python",
     "metadata": {},
     "outputs": [
      {
       "metadata": {},
       "output_type": "pyout",
       "prompt_number": 3,
       "text": [
        "2"
       ]
      }
     ],
     "prompt_number": 3
    },
    {
     "cell_type": "markdown",
     "metadata": {},
     "source": [
      "Import a library"
     ]
    },
    {
     "cell_type": "code",
     "collapsed": false,
     "input": [
      "import time"
     ],
     "language": "python",
     "metadata": {},
     "outputs": [],
     "prompt_number": 4
    },
    {
     "cell_type": "markdown",
     "metadata": {},
     "source": [
      "Call a function"
     ]
    },
    {
     "cell_type": "code",
     "collapsed": false,
     "input": [
      "time.ctime()"
     ],
     "language": "python",
     "metadata": {},
     "outputs": [
      {
       "metadata": {},
       "output_type": "pyout",
       "prompt_number": 5,
       "text": [
        "'Thu Dec 18 13:40:37 2014'"
       ]
      }
     ],
     "prompt_number": 5
    },
    {
     "cell_type": "markdown",
     "metadata": {},
     "source": [
      "Define a fuction"
     ]
    },
    {
     "cell_type": "code",
     "collapsed": false,
     "input": [
      "def myFunc(a,b):\n",
      "    return a+b"
     ],
     "language": "python",
     "metadata": {},
     "outputs": [],
     "prompt_number": 6
    },
    {
     "cell_type": "markdown",
     "metadata": {},
     "source": [
      "Call my function"
     ]
    },
    {
     "cell_type": "code",
     "collapsed": false,
     "input": [
      "myFunc(123,321)"
     ],
     "language": "python",
     "metadata": {},
     "outputs": [
      {
       "metadata": {},
       "output_type": "pyout",
       "prompt_number": 7,
       "text": [
        "444"
       ]
      }
     ],
     "prompt_number": 7
    },
    {
     "cell_type": "markdown",
     "metadata": {},
     "source": [
      "if statement"
     ]
    },
    {
     "cell_type": "code",
     "collapsed": false,
     "input": [
      "if 1!=1:\n",
      "    print(\"true\")\n",
      "else:\n",
      "    print(\"false\")"
     ],
     "language": "python",
     "metadata": {},
     "outputs": [
      {
       "output_type": "stream",
       "stream": "stdout",
       "text": [
        "false\n"
       ]
      }
     ],
     "prompt_number": 9
    },
    {
     "cell_type": "code",
     "collapsed": false,
     "input": [],
     "language": "python",
     "metadata": {},
     "outputs": []
    }
   ],
   "metadata": {}
  }
 ]
}