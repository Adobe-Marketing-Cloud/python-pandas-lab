{
 "metadata": {
  "name": "",
  "signature": "sha256:d77231b70d9133d748b379c57aa4259051366945b0456d490e71ff39b13b73ba"
 },
 "nbformat": 3,
 "nbformat_minor": 0,
 "worksheets": [
  {
   "cells": [
    {
     "cell_type": "markdown",
     "metadata": {},
     "source": [
      "If you need details about Python Syntax here are couple sites that are helpful. \n",
      "* (Python Tutorial)[http://www.afterhoursprogramming.com/tutorial/Python/Introduction/]\n",
      "* (Python Beginners Guider) [https://wiki.python.org/moin/BeginnersGuide]\n",
      "* (Google)[https://www.google.com/] -- If you have questions Google probably knows\n",
      "\n",
      "I have given a brief overview down below as well. "
     ]
    },
    {
     "cell_type": "markdown",
     "metadata": {},
     "source": [
      "Simple Math"
     ]
    },
    {
     "cell_type": "code",
     "collapsed": false,
     "input": [
      "1+1"
     ],
     "language": "python",
     "metadata": {},
     "outputs": []
    },
    {
     "cell_type": "markdown",
     "metadata": {},
     "source": [
      "Assign a variable"
     ]
    },
    {
     "cell_type": "code",
     "collapsed": false,
     "input": [
      "a=1+1"
     ],
     "language": "python",
     "metadata": {},
     "outputs": []
    },
    {
     "cell_type": "markdown",
     "metadata": {},
     "source": [
      "See the value of a variable"
     ]
    },
    {
     "cell_type": "code",
     "collapsed": false,
     "input": [
      "a"
     ],
     "language": "python",
     "metadata": {},
     "outputs": []
    },
    {
     "cell_type": "markdown",
     "metadata": {},
     "source": [
      "Import a library"
     ]
    },
    {
     "cell_type": "code",
     "collapsed": false,
     "input": [
      "import time"
     ],
     "language": "python",
     "metadata": {},
     "outputs": []
    },
    {
     "cell_type": "markdown",
     "metadata": {},
     "source": [
      "Call a function"
     ]
    },
    {
     "cell_type": "code",
     "collapsed": false,
     "input": [
      "time.ctime()"
     ],
     "language": "python",
     "metadata": {},
     "outputs": []
    },
    {
     "cell_type": "markdown",
     "metadata": {},
     "source": [
      "Define a fuction"
     ]
    },
    {
     "cell_type": "code",
     "collapsed": false,
     "input": [
      "def myFunc(a,b):\n",
      "    return a+b"
     ],
     "language": "python",
     "metadata": {},
     "outputs": []
    },
    {
     "cell_type": "markdown",
     "metadata": {},
     "source": [
      "Call my function"
     ]
    },
    {
     "cell_type": "code",
     "collapsed": false,
     "input": [
      "myFunc(123,321)"
     ],
     "language": "python",
     "metadata": {},
     "outputs": []
    },
    {
     "cell_type": "markdown",
     "metadata": {},
     "source": [
      "if statement"
     ]
    },
    {
     "cell_type": "code",
     "collapsed": false,
     "input": [
      "if 1!=1:\n",
      "    print(\"true\")\n",
      "else:\n",
      "    print(\"false\")"
     ],
     "language": "python",
     "metadata": {},
     "outputs": []
    },
    {
     "cell_type": "code",
     "collapsed": false,
     "input": [],
     "language": "python",
     "metadata": {},
     "outputs": []
    }
   ],
   "metadata": {}
  }
 ]
}