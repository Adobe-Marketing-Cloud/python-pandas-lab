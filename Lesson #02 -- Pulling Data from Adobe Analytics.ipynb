{
 "metadata": {
  "name": "",
  "signature": "sha256:a63ebb7c01c37b37d141f198077590e426efa52000f3bb0eda5fa7aff1a0363e"
 },
 "nbformat": 3,
 "nbformat_minor": 0,
 "worksheets": [
  {
   "cells": [
    {
     "cell_type": "markdown",
     "metadata": {},
     "source": [
      "In this lesson we are going to use a Library to pull the data down from Adobe Analytics. The Libraray as well as instructions for installing it can be found on Github [OmniturePy](https://github.com/dancingcactus/python-omniture). I want to give special thanks to [Stijn Debrouwere](https://github.com/debrouwere]) for writing most of the library. If you are attending the lab in person this should already be installed. The docs can be found [here](https://github.com/dancingcactus/python-omniture)"
     ]
    },
    {
     "cell_type": "heading",
     "level": 1,
     "metadata": {},
     "source": [
      "Objectives"
     ]
    },
    {
     "cell_type": "markdown",
     "metadata": {},
     "source": [
      "* Learn how to pull data from Analytics into python for Analysis\n",
      "* Learn how to request different types of reports"
     ]
    },
    {
     "cell_type": "heading",
     "level": 1,
     "metadata": {},
     "source": [
      "Setup of the library"
     ]
    },
    {
     "cell_type": "markdown",
     "metadata": {},
     "source": [
      "First we need to import the library and enter in our authentication credentials"
     ]
    },
    {
     "cell_type": "code",
     "collapsed": false,
     "input": [
      "import omniture\n",
      "\n",
      "an = omniture.authenticate(\"labuser:Lab L721\",\"5b00fe37eb2659d0f3a1231cb3d803f9\")\n",
      "%matplotlib inline"
     ],
     "language": "python",
     "metadata": {},
     "outputs": []
    },
    {
     "cell_type": "markdown",
     "metadata": {},
     "source": [
      "This sets up the library and makes sure you are Authenticated. The `an` variable is your analytics account. It has a number of functions that are useful. The %matplotlib inline forces the graphs to appear here in the notebook instead of in a seperate program"
     ]
    },
    {
     "cell_type": "markdown",
     "metadata": {},
     "source": [
      "You can use the request method to make arbitrary API requests to the Analytics API like so. "
     ]
    },
    {
     "cell_type": "code",
     "collapsed": false,
     "input": [
      "an.request(\"Company\",\"GetEndpoint\")"
     ],
     "language": "python",
     "metadata": {},
     "outputs": []
    },
    {
     "cell_type": "markdown",
     "metadata": {},
     "source": [
      "There are a number of shortcuts in the library to make common tasks easier. For example if you want to see which report suites your account has you can do this"
     ]
    },
    {
     "cell_type": "code",
     "collapsed": false,
     "input": [
      "an.suites"
     ],
     "language": "python",
     "metadata": {},
     "outputs": []
    },
    {
     "cell_type": "heading",
     "level": 1,
     "metadata": {},
     "source": [
      "Interacting with Report Suites"
     ]
    },
    {
     "cell_type": "markdown",
     "metadata": {},
     "source": [
      "Lets select a report suite and see what elements and metrics are available. "
     ]
    },
    {
     "cell_type": "code",
     "collapsed": false,
     "input": [
      "#Save a particular report suite in a variable\n",
      "suite = an.suites['omniture.devportal']"
     ],
     "language": "python",
     "metadata": {},
     "outputs": []
    },
    {
     "cell_type": "code",
     "collapsed": false,
     "input": [
      "suite.elements"
     ],
     "language": "python",
     "metadata": {},
     "outputs": []
    },
    {
     "cell_type": "code",
     "collapsed": false,
     "input": [
      "suite.metrics"
     ],
     "language": "python",
     "metadata": {},
     "outputs": []
    },
    {
     "cell_type": "heading",
     "level": 1,
     "metadata": {},
     "source": [
      "Running Reports"
     ]
    },
    {
     "cell_type": "markdown",
     "metadata": {},
     "source": [
      "Now that we have our report suite lets put together a report. "
     ]
    },
    {
     "cell_type": "code",
     "collapsed": false,
     "input": [
      "suite.report"
     ],
     "language": "python",
     "metadata": {},
     "outputs": []
    },
    {
     "cell_type": "markdown",
     "metadata": {},
     "source": [
      "If I want to see the raw report that is done in the API then I would just print the report out. "
     ]
    },
    {
     "cell_type": "code",
     "collapsed": false,
     "input": [
      "print suite.report"
     ],
     "language": "python",
     "metadata": {},
     "outputs": []
    },
    {
     "cell_type": "markdown",
     "metadata": {},
     "source": [
      "Now let's run it"
     ]
    },
    {
     "cell_type": "code",
     "collapsed": false,
     "input": [
      "suite.report.run()"
     ],
     "language": "python",
     "metadata": {},
     "outputs": []
    },
    {
     "cell_type": "markdown",
     "metadata": {},
     "source": [
      "That runs a basic report for today. "
     ]
    },
    {
     "cell_type": "markdown",
     "metadata": {},
     "source": [
      "As a best practice you should always set the results of a report to a variable so you can manipulate it like this. "
     ]
    },
    {
     "cell_type": "code",
     "collapsed": false,
     "input": [
      "report = suite.report.run()"
     ],
     "language": "python",
     "metadata": {},
     "outputs": []
    },
    {
     "cell_type": "code",
     "collapsed": false,
     "input": [
      "report"
     ],
     "language": "python",
     "metadata": {},
     "outputs": []
    },
    {
     "cell_type": "heading",
     "level": 1,
     "metadata": {},
     "source": [
      "Configuring a Report"
     ]
    },
    {
     "cell_type": "markdown",
     "metadata": {},
     "source": [
      "You can add to the report by combining methods to adjust different parameters of the report, just make sure the run method is last.  Like this "
     ]
    },
    {
     "cell_type": "heading",
     "level": 3,
     "metadata": {},
     "source": [
      "Add an Element"
     ]
    },
    {
     "cell_type": "code",
     "collapsed": false,
     "input": [
      "report = suite.report.element(\"page\").run()\n",
      "report"
     ],
     "language": "python",
     "metadata": {},
     "outputs": []
    },
    {
     "cell_type": "heading",
     "level": 3,
     "metadata": {},
     "source": [
      "Add a Metric"
     ]
    },
    {
     "cell_type": "code",
     "collapsed": false,
     "input": [
      "report = suite.report.element(\"page\").metric(\"visits\").run()\n",
      "report"
     ],
     "language": "python",
     "metadata": {},
     "outputs": []
    },
    {
     "cell_type": "heading",
     "level": 3,
     "metadata": {},
     "source": [
      "Add two Metrics"
     ]
    },
    {
     "cell_type": "code",
     "collapsed": false,
     "input": [
      "report = suite.report.element(\"page\").metric(\"visits\").metric('visitors').run()\n",
      "report"
     ],
     "language": "python",
     "metadata": {},
     "outputs": []
    },
    {
     "cell_type": "heading",
     "level": 3,
     "metadata": {},
     "source": [
      "Add a Date Range"
     ]
    },
    {
     "cell_type": "code",
     "collapsed": false,
     "input": [
      "report = suite.report.element(\"page\").metric(\"visits\").metric('visitors').range('2014-12-01','2014-12-07').run()\n",
      "report"
     ],
     "language": "python",
     "metadata": {},
     "outputs": []
    },
    {
     "cell_type": "heading",
     "level": 3,
     "metadata": {},
     "source": [
      "Add a Date Granularity"
     ]
    },
    {
     "cell_type": "code",
     "collapsed": false,
     "input": [
      "report = suite.report.element(\"page\").metric(\"visits\").metric('visitors').range('2015-02-01','2015-02-07').granularity('day').run()\n",
      "report"
     ],
     "language": "python",
     "metadata": {},
     "outputs": []
    },
    {
     "cell_type": "markdown",
     "metadata": {},
     "source": [
      "If the query starts getting too long you can put them on multiple lines you will just need to put a backslash at the end of each line like so"
     ]
    },
    {
     "cell_type": "code",
     "collapsed": false,
     "input": [
      "report = suite.report\\\n",
      "    .element(\"page\")\\\n",
      "    .metric(\"visits\")\\\n",
      "    .metric('visitors')\\\n",
      "    .range('2014-12-01','2014-12-07')\\\n",
      "    .granularity('day')\\\n",
      "    .run()\n",
      "report"
     ],
     "language": "python",
     "metadata": {},
     "outputs": []
    },
    {
     "cell_type": "heading",
     "level": 1,
     "metadata": {},
     "source": [
      "Add a Breakdown"
     ]
    },
    {
     "cell_type": "code",
     "collapsed": false,
     "input": [
      "report = suite.report\\\n",
      "    .element(\"page\")\\\n",
      "    .breakdown(\"sitesection\")\\\n",
      "    .metric(\"visits\")\\\n",
      "    .metric('visitors')\\\n",
      "    .range('2014-12-01','2014-12-07')\\\n",
      "    .granularity('day')\\\n",
      "    .run()\n",
      "report"
     ],
     "language": "python",
     "metadata": {},
     "outputs": []
    },
    {
     "cell_type": "markdown",
     "metadata": {},
     "source": [
      "You can pull almost any report that you would in Analytics by combining different elements, metrics, and date granularities. Here is a mapping of how the to run the different types of reports "
     ]
    },
    {
     "cell_type": "markdown",
     "metadata": {},
     "source": [
      "|Report Type | Parameters |\n",
      "|-----|----|\n",
      "|**Overtime Report**|No elements with a dateGranularity specified.|\n",
      "|**Ranked Report**|1 or more elements with no dateGranularity specified.|\n",
      "|**Trended Report**|1 or more elements with a dateGranularity specified.|\n",
      "|**Pathing Report**|Element in the pattern parameter.|\n",
      "|**Fallout Report**|Element in the checkpoint parameter.|\n"
     ]
    }
   ],
   "metadata": {}
  }
 ]
}