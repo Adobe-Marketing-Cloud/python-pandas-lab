{
 "metadata": {
  "name": "",
  "signature": "sha256:f14840693d5c54bc90717b6ffb785a65c8fbc79f7377000db0a36076e4cff6ad"
 },
 "nbformat": 3,
 "nbformat_minor": 0,
 "worksheets": [
  {
   "cells": [
    {
     "cell_type": "heading",
     "level": 1,
     "metadata": {},
     "source": [
      "Lesson #01 Exercise "
     ]
    },
    {
     "cell_type": "markdown",
     "metadata": {},
     "source": [
      "**Time :5 min** \n",
      "\n",
      "In this exercise I want you to play around with the interface and get familiar with it. Here are few things to try. \n",
      "\n",
      "Do the following. \n",
      "* Run through the interface tour (Help -> User Interface Tour)\n",
      "* Create a markdown cell and type your name\n",
      "* Create a new code cell and print your name\n",
      "* Move the code cell above the markdown cell\n",
      "* Delete the Markdown cell you have\n",
      "\n",
      "Optional (Advanced)\n",
      "* Import the time module\n",
      "* Print the current time\n",
      "* Restart the Kernel\n",
      "* Run all the cells \n",
      "* Download the notebook as a python script"
     ]
    },
    {
     "cell_type": "code",
     "collapsed": false,
     "input": [],
     "language": "python",
     "metadata": {},
     "outputs": [],
     "prompt_number": 0
    },
    {
     "cell_type": "code",
     "collapsed": false,
     "input": [],
     "language": "python",
     "metadata": {},
     "outputs": []
    }
   ],
   "metadata": {}
  }
 ]
}