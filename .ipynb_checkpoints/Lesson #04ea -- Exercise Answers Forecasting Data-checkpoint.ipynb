{
 "metadata": {
  "name": "",
  "signature": "sha256:f5431713e88724519ef4ec57f24301c79bf7dda439bc611ebd102c6a4cbc6762"
 },
 "nbformat": 3,
 "nbformat_minor": 0,
 "worksheets": [
  {
   "cells": [
    {
     "cell_type": "heading",
     "level": 1,
     "metadata": {},
     "source": [
      "Lesson #01 Exercise "
     ]
    },
    {
     "cell_type": "markdown",
     "metadata": {},
     "source": [
      "**Time :What ever time is left** \n",
      "\n",
      "In this exercise I want you to create an ARMA model for visitors. Here are the rough steps.\n",
      "* Pull vistors for January through the end of March\n",
      "* Run the Model with different orders\n",
      "\n",
      "\n",
      "Optional (Advanced)\n",
      "* Run an Autocorrelation and Partial Autocorrelation to help decide first order\n"
     ]
    },
    {
     "cell_type": "code",
     "collapsed": false,
     "input": [
      "import omniture\n",
      "import pandas as pd\n",
      "import numpy as np\n",
      "import statsmodels.api as sm\n",
      "\n",
      "\n",
      "\n",
      "\n",
      "an = omniture.authenticate(\"labuser:Lab L721\",\"5b00fe37eb2659d0f3a1231cb3d803f9\")\n",
      "%matplotlib inline"
     ],
     "language": "python",
     "metadata": {},
     "outputs": []
    },
    {
     "cell_type": "code",
     "collapsed": false,
     "input": [],
     "language": "python",
     "metadata": {},
     "outputs": []
    }
   ],
   "metadata": {}
  }
 ]
}