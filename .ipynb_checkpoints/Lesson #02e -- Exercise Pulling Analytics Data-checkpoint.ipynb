{
 "metadata": {
  "name": "",
  "signature": "sha256:375a836dc2497164ab14734fba23187c3e31c8682b503907b8eb507b1c128d2e"
 },
 "nbformat": 3,
 "nbformat_minor": 0,
 "worksheets": [
  {
   "cells": [
    {
     "cell_type": "heading",
     "level": 1,
     "metadata": {},
     "source": [
      "Lesson #02 Exercise"
     ]
    },
    {
     "cell_type": "markdown",
     "metadata": {},
     "source": [
      "**Time: 10min**"
     ]
    },
    {
     "cell_type": "markdown",
     "metadata": {},
     "source": [
      "In this excercise I want you to play around with the library and get a feel for how to use it. \n",
      "* Pull a list of report suites\n",
      "* Pull a list of elements and metrics for a report suite\n",
      "* Run a report on Omniture.devportal\n",
      "* Run an overtime\n",
      "  * Metric: pageviews\n",
      "  \n",
      "\n",
      "Optional (Advanced)\n",
      "* Run a ranked report for last month using the following. \n",
      "  * Element: pages\n",
      "  * Metrics: pageviews, visits, visitors\n",
      "* Run a trended report\n",
      "* Do a Breakdown Pages by State (Use geostate)"
     ]
    },
    {
     "cell_type": "code",
     "collapsed": false,
     "input": [],
     "language": "python",
     "metadata": {},
     "outputs": []
    }
   ],
   "metadata": {}
  }
 ]
}