{
 "metadata": {
  "name": "",
  "signature": "sha256:a622ac3655a250150cc06f06f6a58fd021bea8617020141fabc5dab12c6faec7"
 },
 "nbformat": 3,
 "nbformat_minor": 0,
 "worksheets": []
}