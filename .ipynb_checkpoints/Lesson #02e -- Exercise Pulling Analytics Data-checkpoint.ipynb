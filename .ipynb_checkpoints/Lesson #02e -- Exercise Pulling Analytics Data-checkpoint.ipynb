{
 "metadata": {
  "name": "",
  "signature": "sha256:a979b712658ef9c6b03d023694955a54c2fc153a816ec80a010c9983d40327be"
 },
 "nbformat": 3,
 "nbformat_minor": 0,
 "worksheets": [
  {
   "cells": [
    {
     "cell_type": "heading",
     "level": 1,
     "metadata": {},
     "source": [
      "Lesson #02 Exercise"
     ]
    },
    {
     "cell_type": "markdown",
     "metadata": {},
     "source": [
      "**Time: 10min**"
     ]
    },
    {
     "cell_type": "markdown",
     "metadata": {},
     "source": [
      "In this excercise I want you to play around with the library and get a feel for how to use it. \n",
      "* Pull a list of report suites\n",
      "* Pull a list of elements and metrics for a report suite\n",
      "* Run a report on Omniture.devportal\n",
      "* Run an overtime\n",
      "  * Metric: pageviews\n",
      "  \n",
      "\n",
      "Optional (Advanced)\n",
      "* Run a ranked report for last month using the following. \n",
      "  * Element: pages\n",
      "  * Metrics: pageviews, visits, visitors\n",
      "* Run a trended report\n",
      "* Do a Breakdown Pages by State (Use geostate)"
     ]
    },
    {
     "cell_type": "code",
     "collapsed": false,
     "input": [
      "import omniture\n",
      "\n",
      "an = omniture.authenticate(\"labuser:Lab L721\",\"5b00fe37eb2659d0f3a1231cb3d803f9\")\n",
      "%matplotlib inline"
     ],
     "language": "python",
     "metadata": {},
     "outputs": []
    },
    {
     "cell_type": "code",
     "collapsed": false,
     "input": [
      "an.suites"
     ],
     "language": "python",
     "metadata": {},
     "outputs": []
    },
    {
     "cell_type": "code",
     "collapsed": false,
     "input": [
      "suite = an.suites[\"omniture.devportal\"]"
     ],
     "language": "python",
     "metadata": {},
     "outputs": []
    },
    {
     "cell_type": "code",
     "collapsed": false,
     "input": [
      "suite.elements"
     ],
     "language": "python",
     "metadata": {},
     "outputs": []
    },
    {
     "cell_type": "code",
     "collapsed": false,
     "input": [
      "suite.metrics"
     ],
     "language": "python",
     "metadata": {},
     "outputs": []
    },
    {
     "cell_type": "code",
     "collapsed": false,
     "input": [
      "suite.report.run()"
     ],
     "language": "python",
     "metadata": {},
     "outputs": []
    },
    {
     "cell_type": "code",
     "collapsed": false,
     "input": [
      "suite.report.granularity(\"day\").range('2015-01-01','2015-01-15').run()"
     ],
     "language": "python",
     "metadata": {},
     "outputs": []
    },
    {
     "cell_type": "code",
     "collapsed": false,
     "input": [],
     "language": "python",
     "metadata": {},
     "outputs": []
    }
   ],
   "metadata": {}
  }
 ]
}