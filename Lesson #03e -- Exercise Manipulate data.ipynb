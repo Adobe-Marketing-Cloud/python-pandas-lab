{
 "metadata": {
  "name": "",
  "signature": "sha256:30676a2ba98b5186afff235c0b74ce18cc2a78121515d3a2cb93c334c560e2b1"
 },
 "nbformat": 3,
 "nbformat_minor": 0,
 "worksheets": [
  {
   "cells": [
    {
     "cell_type": "heading",
     "level": 1,
     "metadata": {},
     "source": [
      "Lesson #03 Exercise "
     ]
    },
    {
     "cell_type": "markdown",
     "metadata": {},
     "source": [
      "**Time :10 min** \n",
      "\n",
      "In this exercise I want you to play with the dataframes. \n",
      "\n",
      "Do the Following\n",
      "* Run the cells below to pull back some data\n",
      "* print out the 1st 10 records of the dataframe\n",
      "* Find the mean and std deviation for page views\n",
      "* Print out a list of just the `page` on the site\n",
      "* plot the dataframe\n",
      "\n",
      "Optional (Advanced)\n",
      "* Filter down to the top 10 results\n",
      "* Plot the top 10 results in a bar chart \n",
      "* Plot a scatter chart of pageview and visits to each page\n",
      "* Create a new metric of pageivews per visit (which one has the highest?)"
     ]
    },
    {
     "cell_type": "code",
     "collapsed": false,
     "input": [
      "import omniture\n",
      "\n",
      "an = omniture.authenticate(\"labuser:Lab L721\",\"5b00fe37eb2659d0f3a1231cb3d803f9\")\n",
      "%matplotlib inline"
     ],
     "language": "python",
     "metadata": {},
     "outputs": []
    },
    {
     "cell_type": "code",
     "collapsed": false,
     "input": [
      "suite = an.suites['omniture.devportal']\n",
      "report = suite.report.element('page', top=50).metric('pageviews').metric('visits').range('2015-01-31','2015-03-15').run()"
     ],
     "language": "python",
     "metadata": {},
     "outputs": []
    }
   ],
   "metadata": {}
  }
 ]
}