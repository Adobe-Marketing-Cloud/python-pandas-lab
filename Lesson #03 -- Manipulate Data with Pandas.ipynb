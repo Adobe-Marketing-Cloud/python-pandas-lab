{
 "metadata": {
  "name": "",
  "signature": "sha256:871a1741949602c8ae8d054123b576f126b5f9da88b223b462b944b3ece1a6cc"
 },
 "nbformat": 3,
 "nbformat_minor": 0,
 "worksheets": [
  {
   "cells": [
    {
     "cell_type": "heading",
     "level": 1,
     "metadata": {},
     "source": [
      "Objectives"
     ]
    },
    {
     "cell_type": "markdown",
     "metadata": {},
     "source": [
      "* Select and filter the data \n",
      "* Manipulate the data\n",
      "* Plot data retrieved from Analytics"
     ]
    },
    {
     "cell_type": "heading",
     "level": 2,
     "metadata": {},
     "source": [
      "Set things up"
     ]
    },
    {
     "cell_type": "markdown",
     "metadata": {},
     "source": [
      "We need to setup the library so we can pull the data and manipulate it"
     ]
    },
    {
     "cell_type": "code",
     "collapsed": false,
     "input": [
      "import omniture\n",
      "\n",
      "an = omniture.authenticate(\"labuser:Lab L721\",\"5b00fe37eb2659d0f3a1231cb3d803f9\")\n",
      "%matplotlib inline"
     ],
     "language": "python",
     "metadata": {},
     "outputs": []
    },
    {
     "cell_type": "heading",
     "level": 2,
     "metadata": {},
     "source": [
      "Pull out some data"
     ]
    },
    {
     "cell_type": "markdown",
     "metadata": {},
     "source": [
      "Let's pull out page views for the month. I am going to pull out page views and visits by day. "
     ]
    },
    {
     "cell_type": "code",
     "collapsed": false,
     "input": [
      "suite = an.suites['omniture.devportal']\n",
      "report = suite.report.metric(\"pageviews\").metric(\"visits\").range('2014-01-01','2014-01-31').granularity(\"day\").run()"
     ],
     "language": "python",
     "metadata": {},
     "outputs": []
    },
    {
     "cell_type": "heading",
     "level": 2,
     "metadata": {},
     "source": [
      "Data Frames"
     ]
    },
    {
     "cell_type": "markdown",
     "metadata": {},
     "source": [
      "[Pandas](http://pandas.pydata.org/) is a library written by Wes McKinney and the Python community for doing data analysis. Pandas lets you manipulate data quickly and easily. The main data structure for manipulating data is called a DataFrame (Similar to a dataframe in R). The object returned from our report will generate a data frame for you using the `dataframe` property. Try it below."
     ]
    },
    {
     "cell_type": "code",
     "collapsed": false,
     "input": [
      "report.dataframe"
     ],
     "language": "python",
     "metadata": {},
     "outputs": []
    },
    {
     "cell_type": "markdown",
     "metadata": {},
     "source": [
      "It doesn't look any different but it lets you do a whole bunch of new things below I have listed out a few examples. "
     ]
    },
    {
     "cell_type": "heading",
     "level": 4,
     "metadata": {},
     "source": [
      "Inspect Data"
     ]
    },
    {
     "cell_type": "markdown",
     "metadata": {},
     "source": [
      "There are a few methods to let you inspect the data. \n",
      "* `.head()` Show the first few rows. Optionally you can tell it how many rows to return\n",
      "* `.tail()` Show the last few rows Optionally you can tell it how many rows to return\n",
      "* `.describe()` Shows you stastics about how the data "
     ]
    },
    {
     "cell_type": "code",
     "collapsed": false,
     "input": [
      "report.dataframe.head(10)"
     ],
     "language": "python",
     "metadata": {},
     "outputs": []
    },
    {
     "cell_type": "code",
     "collapsed": false,
     "input": [
      "report.dataframe.tail()"
     ],
     "language": "python",
     "metadata": {},
     "outputs": []
    },
    {
     "cell_type": "code",
     "collapsed": false,
     "input": [
      "report.dataframe.tail(15)"
     ],
     "language": "python",
     "metadata": {},
     "outputs": []
    },
    {
     "cell_type": "code",
     "collapsed": false,
     "input": [
      "report.dataframe.describe()"
     ],
     "language": "python",
     "metadata": {},
     "outputs": []
    },
    {
     "cell_type": "heading",
     "level": 4,
     "metadata": {},
     "source": [
      "Columns Selection"
     ]
    },
    {
     "cell_type": "markdown",
     "metadata": {},
     "source": [
      "I select individual columns by using their names just like I would a list"
     ]
    },
    {
     "cell_type": "code",
     "collapsed": false,
     "input": [
      "report.dataframe['pageviews']"
     ],
     "language": "python",
     "metadata": {},
     "outputs": []
    },
    {
     "cell_type": "markdown",
     "metadata": {},
     "source": [
      "Or I can select multiple columns by providing an array"
     ]
    },
    {
     "cell_type": "code",
     "collapsed": false,
     "input": [
      "report.dataframe[['pageviews','datetime']]"
     ],
     "language": "python",
     "metadata": {},
     "outputs": []
    },
    {
     "cell_type": "heading",
     "level": 4,
     "metadata": {},
     "source": [
      "Row Selection"
     ]
    },
    {
     "cell_type": "markdown",
     "metadata": {},
     "source": [
      "I can select rows by using their indexes. It uses the format for `[start:end]`. For example if I do [2:5] it will select rows 2-4 like so. "
     ]
    },
    {
     "cell_type": "code",
     "collapsed": false,
     "input": [
      "report.dataframe[2:5]"
     ],
     "language": "python",
     "metadata": {},
     "outputs": []
    },
    {
     "cell_type": "markdown",
     "metadata": {},
     "source": [
      "I can also filter by entering a filter criteria in the brackets. For example if I wanted to select days with visits higher than 500 I would do this. "
     ]
    },
    {
     "cell_type": "code",
     "collapsed": false,
     "input": [
      "report.dataframe[report.dataframe.visits > 1000]"
     ],
     "language": "python",
     "metadata": {},
     "outputs": []
    },
    {
     "cell_type": "markdown",
     "metadata": {},
     "source": [
      "There are many many more options including pivoting, merging data sets, grouping and so forth. The "
     ]
    },
    {
     "cell_type": "heading",
     "level": 4,
     "metadata": {},
     "source": [
      "Doing Calculations"
     ]
    },
    {
     "cell_type": "markdown",
     "metadata": {},
     "source": [
      "You can also do calculations on columns to create your own calculations. Here is a simple example. "
     ]
    },
    {
     "cell_type": "code",
     "collapsed": false,
     "input": [
      "report.dataframe[\"pageviews per visit\"] = report.dataframe['pageviews']/report.dataframe['visits']\n",
      "report.dataframe"
     ],
     "language": "python",
     "metadata": {},
     "outputs": []
    },
    {
     "cell_type": "heading",
     "level": 4,
     "metadata": {},
     "source": [
      "Setting values for all rows"
     ]
    },
    {
     "cell_type": "markdown",
     "metadata": {},
     "source": [
      "If you want to set the same value on each row then you can easily do it like so"
     ]
    },
    {
     "cell_type": "code",
     "collapsed": false,
     "input": [
      "report.dataframe['mean_pageviews'] = report.dataframe['pageviews'].mean()\n",
      "report.dataframe"
     ],
     "language": "python",
     "metadata": {},
     "outputs": []
    },
    {
     "cell_type": "code",
     "collapsed": false,
     "input": [
      "report.dataframe.plot()"
     ],
     "language": "python",
     "metadata": {},
     "outputs": []
    },
    {
     "cell_type": "heading",
     "level": 4,
     "metadata": {},
     "source": [
      "Transposing Data"
     ]
    },
    {
     "cell_type": "markdown",
     "metadata": {},
     "source": [
      "Sometimes you need to transpose the data to make it a little easier to use. The `transpose()` will turn the rows into columns"
     ]
    },
    {
     "cell_type": "code",
     "collapsed": false,
     "input": [
      "transpose = report.dataframe.transpose()\n",
      "transpose"
     ],
     "language": "python",
     "metadata": {},
     "outputs": []
    },
    {
     "cell_type": "heading",
     "level": 4,
     "metadata": {},
     "source": [
      "Plotting"
     ]
    },
    {
     "cell_type": "markdown",
     "metadata": {},
     "source": [
      "In most cases you can call the `.plot()` method and it will automatically visualize the data"
     ]
    },
    {
     "cell_type": "code",
     "collapsed": false,
     "input": [
      "report.dataframe.plot()"
     ],
     "language": "python",
     "metadata": {},
     "outputs": []
    },
    {
     "cell_type": "markdown",
     "metadata": {},
     "source": [
      "You can change the type using the kind parameter. I have included a few here. You can see the complete list in the [Pandas documentation](http://pandas.pydata.org/pandas-docs/dev/generated/pandas.DataFrame.plot.html)"
     ]
    },
    {
     "cell_type": "code",
     "collapsed": false,
     "input": [
      "report.dataframe.plot(kind='area')\n",
      "report.dataframe.plot(kind='bar')\n",
      "report.dataframe.plot(kind='barh')\n",
      "report.dataframe.plot(kind='box')\n",
      "report.dataframe.plot(kind='pie', y='pageviews')\n",
      "report.dataframe.plot(kind='scatter',x='pageviews',y='visits')\n",
      "report.dataframe.plot(kind='hexbin',x='pageviews',y='visits')"
     ],
     "language": "python",
     "metadata": {},
     "outputs": []
    },
    {
     "cell_type": "code",
     "collapsed": false,
     "input": [],
     "language": "python",
     "metadata": {},
     "outputs": []
    }
   ],
   "metadata": {}
  }
 ]
}