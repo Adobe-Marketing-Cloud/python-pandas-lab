{
 "metadata": {
  "name": "",
  "signature": "sha256:25e0babc53a55396e8427c238439983094cc92be950c9f6b035619415a3e4b3a"
 },
 "nbformat": 3,
 "nbformat_minor": 0,
 "worksheets": [
  {
   "cells": [
    {
     "cell_type": "markdown",
     "metadata": {},
     "source": [
      "#Objectives\n",
      "* Know what iPython is \n",
      "* Learn how to use an iPython Notebooks"
     ]
    },
    {
     "cell_type": "markdown",
     "metadata": {},
     "source": [
      "#iPython\n",
      "iPython stands for *Interactive Python* it is a set of tools wrapped around the python programming language to make it easier to use an interactive tool and then quickly convert the results of an interactive session into a reusable script. You can start iPython by opening up the terminal and typing...\n",
      "```\n",
      "ipython\n",
      "```\n",
      "Type `exit()` to quite iPython\n",
      "\n",
      "\n",
      "Open the iPython terminal and run the following command\n",
      "```python\n",
      "import time\n",
      "time.[tab]\n",
      "```\n",
      "\n",
      "Notice how the shell provides you with a set of option (or members) for the time object. \n",
      "\n",
      "There are a ton more things that make iPython nice to use. You can find a quick introduction to them [here](http://ipython.org/ipython-doc/2/interactive/tutorial.html). "
     ]
    },
    {
     "cell_type": "markdown",
     "metadata": {},
     "source": [
      "#iPython Notebooks \n",
      "Congratulations you are already using an iPython Notebook. They are an HTML notebook that lets you combine text, images, and code. It is a great way to create reusable scipts and analysis. Here is a simple example of how a notbook works.\n",
      "\n",
      "A notebook is made of dfferent types of cells. Some cells are [markdown](http://daringfireball.net/projects/markdown/) cells like this one"
     ]
    },
    {
     "cell_type": "code",
     "collapsed": false,
     "input": [
      "print(\"Some are code cells that actually execute like this one\")"
     ],
     "language": "python",
     "metadata": {},
     "outputs": []
    },
    {
     "cell_type": "markdown",
     "metadata": {},
     "source": [
      "You can edit a cell by double clicking on it. Then when you are done hit `shift+enter` to run/render a cell. Try it on the cell below. You should see the output cell update to reflect the current time. "
     ]
    },
    {
     "cell_type": "code",
     "collapsed": false,
     "input": [
      "import time\n",
      "time.ctime()"
     ],
     "language": "python",
     "metadata": {},
     "outputs": []
    },
    {
     "cell_type": "markdown",
     "metadata": {},
     "source": [
      "You can insert, delete and move cells around using the edit and insert menus above. Try inserting a cell just below this one. "
     ]
    },
    {
     "cell_type": "code",
     "collapsed": false,
     "input": [],
     "language": "python",
     "metadata": {},
     "outputs": []
    },
    {
     "cell_type": "markdown",
     "metadata": {},
     "source": [
      "Also if you like you can use keyboard short cuts. You can see a list of keyboard shortcuts in the Help Menu as well as an interface tour"
     ]
    }
   ],
   "metadata": {}
  }
 ]
}